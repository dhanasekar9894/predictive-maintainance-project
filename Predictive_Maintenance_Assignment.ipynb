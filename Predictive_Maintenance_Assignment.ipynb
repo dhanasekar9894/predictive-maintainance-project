{
  "nbformat": 4,
  "nbformat_minor": 0,
  "metadata": {
    "colab": {
      "name": "Predictive Maintenance Assignment.ipynb",
      "provenance": []
    },
    "kernelspec": {
      "name": "python3",
      "display_name": "Python 3"
    }
  },
  "cells": [
    {
      "cell_type": "code",
      "metadata": {
        "id": "Q0NaoxdNg21v"
      },
      "source": [
        ""
      ],
      "execution_count": null,
      "outputs": []
    },
    {
      "cell_type": "code",
      "metadata": {
        "colab": {
          "base_uri": "https://localhost:8080/"
        },
        "id": "yfBBCX5Ug792",
        "outputId": "75a01c77-7c2f-404a-d005-55fdca62c0a1"
      },
      "source": [
        "from google.colab import drive\n",
        "drive.mount('/content/drive')"
      ],
      "execution_count": null,
      "outputs": [
        {
          "output_type": "stream",
          "text": [
            "Drive already mounted at /content/drive; to attempt to forcibly remount, call drive.mount(\"/content/drive\", force_remount=True).\n"
          ],
          "name": "stdout"
        }
      ]
    },
    {
      "cell_type": "code",
      "metadata": {
        "id": "ktzgoTdjgxky"
      },
      "source": [
        "\r\n",
        "import pandas as pd\r\n",
        "import numpy as np\r\n",
        "import seaborn as sns\r\n",
        "import matplotlib.pyplot as plt\r\n",
        "from sklearn.metrics import r2_score\r\n",
        "from sklearn.model_selection import train_test_split\r\n",
        "from sklearn.ensemble import RandomForestRegressor\r\n",
        "from sklearn.metrics import mean_squared_error\r\n",
        "import pickle\r\n",
        "\r\n",
        "df = pd.read_csv(\"/content/drive/MyDrive/encoders (1).csv\")\r\n",
        "\r\n",
        "df[[\"difference\"]]= df[['err']].apply(lambda x: x-12)\r\n",
        "\r\n",
        "df.drop(labels=[\"created_at\",\"minf\",\"maxf\",\"errf\"],inplace=True,axis=\"columns\")\r\n",
        "\r\n",
        "\r\n",
        "df.at[304, 'min'] = 33509\r\n",
        "df.at[1553, 'updated_at'] = '2018-01-25 23:23:40.893050' \r\n",
        "df.at[586, 'updated_at'] = '2018-01-04 12:38:43.729483' \r\n",
        "df.at[601, 'updated_at'] = '2018-01-04 12:38:43.729483'\r\n",
        "\r\n",
        "\r\n",
        "df['date'] = pd.to_datetime(df['date'])\r\n",
        "df['updated_at'] = pd.to_datetime(df['updated_at'])\r\n",
        "\r\n",
        "df['days_diff'] = df['updated_at'] - df['date']\r\n",
        "\r\n",
        "df['days_diff'] = df.days_diff.astype('object')\r\n",
        "\r\n",
        "df['days_diff'] = df[\"days_diff\"].apply(lambda x:str(x)[:2])\r\n",
        "\r\n",
        "df = df.apply(lambda x:x.replace(-0.0,np.NaN))\r\n",
        "df = df.apply(lambda x:x.replace(-1,np.NaN))\r\n",
        "df = df.apply(lambda x:x.replace('Na',np.NaN))\r\n",
        "df = df.apply(lambda x:x.replace('NaT',np.NaN))\r\n",
        "\r\n",
        "df.dropna(axis=\"rows\",inplace=True)\r\n",
        "\r\n",
        "\r\n",
        "df['days_diff'] = df[\"days_diff\"].astype('int64')\r\n",
        "\r\n",
        "\r\n",
        "def sur_cal_new(x):\r\n",
        "  \r\n",
        "    if x > -2:\r\n",
        "      return 4\r\n",
        "\r\n",
        "    elif -2 >= x and x >= -4:\r\n",
        "      return 8\r\n",
        "\r\n",
        "    elif -4 >= x >= -6 :\r\n",
        "      return 20\r\n",
        "\r\n",
        "    elif -6 >= x >= -8:\r\n",
        "      return 28\r\n",
        "\r\n",
        "    elif -8 >= x >=-10 :\r\n",
        "      return 35\r\n",
        "\r\n",
        "    elif -10 >= x >=-12 :\r\n",
        "      return 38\r\n",
        "\r\n",
        "    elif -12 >= x >=-14 :\r\n",
        "      return 42\r\n",
        "\r\n",
        "    else:\r\n",
        "      return 0\r\n",
        "\r\n",
        "df[\"survival\"] = df[\"difference\"].apply(lambda x: sur_cal_new(x))\r\n",
        "\r\n",
        "\r\n",
        "df.at[[304, 586, 601, 1446, 1512, 1553, 1766, 1771],'survival'] = (df[df['difference']>0]['days_diff'].values) * -1\r\n",
        "\r\n",
        "# df1= df\r\n",
        "\r\n",
        "# cdfetrzdfdf\r\n",
        "\r\n",
        "del df['days_diff']\r\n",
        "del df['difference']\r\n",
        "del df['updated_at']\r\n",
        "del df['date']\r\n",
        "del df['scanner']\r\n",
        "del df['id']\r\n",
        "\r\n",
        "\r\n",
        "\r\n",
        "\r\n",
        "X = df.drop(labels='survival', axis=1)\r\n",
        "y = df['survival']\r\n",
        "\r\n",
        "X_train, X_test, y_train, y_test = train_test_split(X, y, test_size=0.33, random_state=101)\r\n",
        "\r\n",
        "\r\n",
        "\r\n",
        "\r\n",
        "\r\n",
        "model_RTR = RandomForestRegressor()\r\n",
        "\r\n",
        "model_RTR.fit(X_train,y_train)\r\n",
        "\r\n",
        "y_pred_RTR = model_RTR.predict(X_test)"
      ],
      "execution_count": null,
      "outputs": []
    },
    {
      "cell_type": "code",
      "metadata": {
        "colab": {
          "base_uri": "https://localhost:8080/"
        },
        "id": "_2CCQQSiha2d",
        "outputId": "622de914-9f42-46c8-dfa8-742faadbb4a6"
      },
      "source": [
        "print('MSE for RTR',mean_squared_error(y_test,y_pred_RTR))\r\n",
        "print(\"R2 score for RTR\",r2_score(y_test,y_pred_RTR))"
      ],
      "execution_count": null,
      "outputs": [
        {
          "output_type": "stream",
          "text": [
            "MSE for RTR 0.9232282271944922\n",
            "R2 score for RTR 0.9753615380930011\n"
          ],
          "name": "stdout"
        }
      ]
    },
    {
      "cell_type": "code",
      "metadata": {
        "colab": {
          "base_uri": "https://localhost:8080/",
          "height": 286
        },
        "id": "Xtjb_zLRhra8",
        "outputId": "6cc2254d-274c-49cc-cf95-41598ac02998"
      },
      "source": [
        "plt.scatter(x=y_test,y=y_pred_RTR)"
      ],
      "execution_count": null,
      "outputs": [
        {
          "output_type": "execute_result",
          "data": {
            "text/plain": [
              "<matplotlib.collections.PathCollection at 0x7f666899e710>"
            ]
          },
          "metadata": {
            "tags": []
          },
          "execution_count": 24
        },
        {
          "output_type": "display_data",
          "data": {
            "image/png": "[encoded data removed]",
            "text/plain": [
              "<Figure size 432x288 with 1 Axes>"
            ]
          },
          "metadata": {
            "tags": [],
            "needs_background": "light"
          }
        }
      ]
    },
    {
      "cell_type": "code",
      "metadata": {
        "id": "4JvTKrQ1-q4w"
      },
      "source": [
        ""
      ],
      "execution_count": null,
      "outputs": []
    }
  ]
}